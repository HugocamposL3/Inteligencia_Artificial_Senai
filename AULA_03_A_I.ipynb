{
  "nbformat": 4,
  "nbformat_minor": 0,
  "metadata": {
    "colab": {
      "name": "AULA 03 - A.I.ipynb",
      "provenance": [],
      "authorship_tag": "ABX9TyMn5XsaamilzTyDAc4xmgQT",
      "include_colab_link": true
    },
    "kernelspec": {
      "name": "python3",
      "display_name": "Python 3"
    },
    "language_info": {
      "name": "python"
    }
  },
  "cells": [
    {
      "cell_type": "markdown",
      "metadata": {
        "id": "view-in-github",
        "colab_type": "text"
      },
      "source": [
        "<a href=\"https://colab.research.google.com/github/HugocamposL3/Inteligencia_Artificial_Senai/blob/main/AULA_03_A_I.ipynb\" target=\"_parent\"><img src=\"https://colab.research.google.com/assets/colab-badge.svg\" alt=\"Open In Colab\"/></a>"
      ]
    },
    {
      "cell_type": "markdown",
      "metadata": {
        "id": "LTXk-88nExc_"
      },
      "source": [
        "#Aula sobre SVM "
      ]
    },
    {
      "cell_type": "code",
      "metadata": {
        "id": "026acFHYE1js"
      },
      "source": [
        "import pandas as pd # Para dataframe\n",
        "import numpy as np\n",
        "from sklearn import svm, datasets # Importando o pacote SVM e os Datasets\n",
        "import matplotlib.pyplot as plt #Para fazer gráficos"
      ],
      "execution_count": 1,
      "outputs": []
    },
    {
      "cell_type": "markdown",
      "metadata": {
        "id": "ASBY-b9DGWFO"
      },
      "source": [
        "## Agora vamos carregar o Dataset"
      ]
    },
    {
      "cell_type": "code",
      "metadata": {
        "id": "0Ir8eGYnGY1F"
      },
      "source": [
        "iris =datasets.load_iris() "
      ],
      "execution_count": 2,
      "outputs": []
    },
    {
      "cell_type": "code",
      "metadata": {
        "id": "nz1ITSH4N1oU"
      },
      "source": [
        "iris"
      ],
      "execution_count": null,
      "outputs": []
    },
    {
      "cell_type": "markdown",
      "metadata": {
        "id": "VsjHQxI8GiN-"
      },
      "source": [
        "##Vamos utilizar as duas primeiras caracteristicas:"
      ]
    },
    {
      "cell_type": "code",
      "metadata": {
        "id": "qw5L644zGoYd"
      },
      "source": [
        "x=iris.data[:,:2] # Todas as linhas da coluna zero até a primeira coluna 0 até 1 (Sepal length e sepal width )\n",
        "y=iris.target #Resultado das classificações já estipuladas pelo o dataset"
      ],
      "execution_count": 20,
      "outputs": []
    },
    {
      "cell_type": "code",
      "metadata": {
        "id": "H6HqdU2wOLBM"
      },
      "source": [
        "x"
      ],
      "execution_count": null,
      "outputs": []
    },
    {
      "cell_type": "code",
      "metadata": {
        "id": "YiLEM6VjOquD"
      },
      "source": [
        "y"
      ],
      "execution_count": null,
      "outputs": []
    },
    {
      "cell_type": "markdown",
      "metadata": {
        "id": "Y6024CO-GwlF"
      },
      "source": [
        "##Traçaremos os limites da máquina de vetores de suporte com os dados originais. Estamos criando uma malha para traçar."
      ]
    },
    {
      "cell_type": "code",
      "metadata": {
        "id": "4CcZjxbUG9en"
      },
      "source": [
        "x_min, x_max = x[:,0].min() - 1,x[:,0].max()+1 # Definindo o max de X + 1 e o Minimo de X - 1\n",
        "y_min, y_max = x[:,1].min() - 1,x[:,1].max()+1 # Definindo o max de Y + 1 e o Minimo de Y - 1\n",
        "h=(x_max/x_min)/100 # O tanto que a linha no Gráfico vai andar\n",
        "xx, yy = np.meshgrid(np.arange(x_min, x_max,h),np.arange(y_min,y_max,h)) # As linhas dos meus planos como são 3 classificadores nos utilizaremos 2 planos \n",
        "x_plot=np.c_[xx.ravel(),yy.ravel()]"
      ],
      "execution_count": 5,
      "outputs": []
    },
    {
      "cell_type": "code",
      "metadata": {
        "colab": {
          "base_uri": "https://localhost:8080/"
        },
        "id": "qnJMEIgdTItZ",
        "outputId": "81d29651-476d-464e-a895-47e8399b8b1d"
      },
      "source": [
        "y_max"
      ],
      "execution_count": 23,
      "outputs": [
        {
          "output_type": "execute_result",
          "data": {
            "text/plain": [
              "5.4"
            ]
          },
          "metadata": {},
          "execution_count": 23
        }
      ]
    },
    {
      "cell_type": "code",
      "metadata": {
        "colab": {
          "base_uri": "https://localhost:8080/"
        },
        "id": "eozLZ6seTLIZ",
        "outputId": "b996c958-d6a0-43cf-85ea-51d4098bcf00"
      },
      "source": [
        "y_min"
      ],
      "execution_count": 24,
      "outputs": [
        {
          "output_type": "execute_result",
          "data": {
            "text/plain": [
              "1.0"
            ]
          },
          "metadata": {},
          "execution_count": 24
        }
      ]
    },
    {
      "cell_type": "code",
      "metadata": {
        "colab": {
          "base_uri": "https://localhost:8080/"
        },
        "id": "6ATJ_JQtS8hE",
        "outputId": "69d650ce-b7bd-4fc9-a116-c31abdb87384"
      },
      "source": [
        "x_min"
      ],
      "execution_count": 21,
      "outputs": [
        {
          "output_type": "execute_result",
          "data": {
            "text/plain": [
              "3.3"
            ]
          },
          "metadata": {},
          "execution_count": 21
        }
      ]
    },
    {
      "cell_type": "code",
      "metadata": {
        "colab": {
          "base_uri": "https://localhost:8080/"
        },
        "id": "kM_2hr2HS-Xi",
        "outputId": "b7d791b7-7001-458f-cc48-46c8c9321a42"
      },
      "source": [
        "x_max"
      ],
      "execution_count": 22,
      "outputs": [
        {
          "output_type": "execute_result",
          "data": {
            "text/plain": [
              "8.9"
            ]
          },
          "metadata": {},
          "execution_count": 22
        }
      ]
    },
    {
      "cell_type": "markdown",
      "metadata": {
        "id": "GYEOX0hbH3gz"
      },
      "source": [
        "## Fornecendo o valor do Parâmetro de Regularização"
      ]
    },
    {
      "cell_type": "code",
      "metadata": {
        "id": "2SLPtrXUH9WR"
      },
      "source": [
        "C=1.0"
      ],
      "execution_count": 10,
      "outputs": []
    },
    {
      "cell_type": "markdown",
      "metadata": {
        "id": "3zIrfHOzIA-_"
      },
      "source": [
        "##Criando um classificador do Objeto"
      ]
    },
    {
      "cell_type": "code",
      "metadata": {
        "colab": {
          "base_uri": "https://localhost:8080/",
          "height": 367
        },
        "id": "H111clV7IF1J",
        "outputId": "3c6a9d75-835f-4efa-adcd-6800bafaea8a"
      },
      "source": [
        "svc_classifier = svm.SVC(kernel='linear', C=C, decision_function_shape='ovr').fit(x,y) ## 'SVC' é um classificador - \n",
        "z = svc_classifier.predict(x_plot)\n",
        "z = z.reshape(xx.shape)\n",
        "plt.figure(figsize=(15,5))\n",
        "plt.subplot(121)\n",
        "plt.contourf(xx,yy,z,cmap=plt.cm.tab10,alpha=0.3)\n",
        "plt.scatter(x[:,0],x[:,1], c=y,cmap=plt.cm.Set1)\n",
        "plt.xlabel('Sépala Comprimento')\n",
        "plt.ylabel('Sépala largura')\n",
        "plt.xlim(xx.min(),xx.max())\n",
        "plt.title('SVC com Núcleo Linear')"
      ],
      "execution_count": 11,
      "outputs": [
        {
          "output_type": "execute_result",
          "data": {
            "text/plain": [
              "Text(0.5, 1.0, 'SVC com Núcleo Linear')"
            ]
          },
          "metadata": {},
          "execution_count": 11
        },
        {
          "output_type": "display_data",
          "data": {
            "image/png": "[encoded data removed]",
            "text/plain": [
              "<Figure size 1080x360 with 1 Axes>"
            ]
          },
          "metadata": {
            "needs_background": "light"
          }
        }
      ]
    }
  ]
}