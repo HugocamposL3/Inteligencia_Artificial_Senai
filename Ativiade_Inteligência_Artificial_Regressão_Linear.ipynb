{
  "nbformat": 4,
  "nbformat_minor": 0,
  "metadata": {
    "colab": {
      "name": "Ativiade Inteligência Artificial Regressão Linear.ipynb",
      "provenance": [],
      "authorship_tag": "ABX9TyOqbPHW1HWh8jE2dSBoIQ5a",
      "include_colab_link": true
    },
    "kernelspec": {
      "name": "python3",
      "display_name": "Python 3"
    },
    "language_info": {
      "name": "python"
    }
  },
  "cells": [
    {
      "cell_type": "markdown",
      "metadata": {
        "id": "view-in-github",
        "colab_type": "text"
      },
      "source": [
        "<a href=\"https://colab.research.google.com/github/HugocamposL3/Inteligencia_Artificial_Senai/blob/main/Ativiade_Intelig%C3%AAncia_Artificial_Regress%C3%A3o_Linear.ipynb\" target=\"_parent\"><img src=\"https://colab.research.google.com/assets/colab-badge.svg\" alt=\"Open In Colab\"/></a>"
      ]
    },
    {
      "cell_type": "markdown",
      "metadata": {
        "id": "0vwpZXLclL-e"
      },
      "source": [
        "#Objetivo: Fazer uma regressão Linear usando métodos aplicados em aulas \n",
        "## y = distância \n",
        "## x = idade \n",
        "## y = alfa + betaX -> Distancia = Alfa + beta*idade\n",
        "###Data Ultima Atualização: 03/12/2021\n",
        "###Autor: Hugo Lara Campos "
      ]
    },
    {
      "cell_type": "markdown",
      "metadata": {
        "id": "UUtyDOMcnSIJ"
      },
      "source": [
        "###Importando Bibliotecas"
      ]
    },
    {
      "cell_type": "code",
      "metadata": {
        "id": "g6PMlgegVQIu"
      },
      "source": [
        "import numpy as np # Bilioteca para Calculos Matemáticos\n",
        "import matplotlib.pyplot as plt # Biblioteca Para Importação de Gráficos"
      ],
      "execution_count": 2,
      "outputs": []
    },
    {
      "cell_type": "markdown",
      "metadata": {
        "id": "uHbuBI7kniIk"
      },
      "source": [
        "### Carregando dados para a minha regressão"
      ]
    },
    {
      "cell_type": "code",
      "metadata": {
        "colab": {
          "base_uri": "https://localhost:8080/"
        },
        "id": "eCek7yb1bxQN",
        "outputId": "79188f27-361e-4bfc-b477-01343dd90afc"
      },
      "source": [
        "MIdade = np.array([[1,1,1,1,1],[20,32,41,49,66]]) # Dados Relacionados a Idade\n",
        "MDistancia = np.array([590,410,460,380,350]) # Dados Relacionados a Distância Prevista \n",
        "print(MIdade)\n",
        "print(MDistancia)"
      ],
      "execution_count": 3,
      "outputs": [
        {
          "output_type": "stream",
          "name": "stdout",
          "text": [
            "[[ 1  1  1  1  1]\n",
            " [20 32 41 49 66]]\n",
            "[590 410 460 380 350]\n"
          ]
        }
      ]
    },
    {
      "cell_type": "markdown",
      "metadata": {
        "id": "2yA694ODcVTw"
      },
      "source": [
        "#Começando os Cálculos Para a Minha Regressão "
      ]
    },
    {
      "cell_type": "code",
      "metadata": {
        "colab": {
          "base_uri": "https://localhost:8080/"
        },
        "id": "RvyJkUChcfj7",
        "outputId": "5b062850-f3ba-47f4-e3d4-0a16e79dab5e"
      },
      "source": [
        "#Fazendo a transposta da Matriz Idade e Salvando na Variavel \"MIdadeT\"\n",
        "MIdadeT = MIdade.transpose()\n",
        "print(MIdadeT)"
      ],
      "execution_count": 4,
      "outputs": [
        {
          "output_type": "stream",
          "name": "stdout",
          "text": [
            "[[ 1 20]\n",
            " [ 1 32]\n",
            " [ 1 41]\n",
            " [ 1 49]\n",
            " [ 1 66]]\n"
          ]
        }
      ]
    },
    {
      "cell_type": "markdown",
      "metadata": {
        "id": "rXl53tzhovoL"
      },
      "source": [
        "### Calculando o Produto das Matrizes de Idade e Idade Transposta e salvando na variavel \"MTa\""
      ]
    },
    {
      "cell_type": "code",
      "metadata": {
        "colab": {
          "base_uri": "https://localhost:8080/"
        },
        "id": "TA2kSRRadpbs",
        "outputId": "2fcc39ea-76e2-4b45-af76-37cbfe29ddaa"
      },
      "source": [
        "#MIdade * MIdadeT\n",
        "MTa = np.dot(MIdade,MIdadeT) \n",
        "print(MTa)"
      ],
      "execution_count": 5,
      "outputs": [
        {
          "output_type": "stream",
          "name": "stdout",
          "text": [
            "[[   5  208]\n",
            " [ 208 9862]]\n"
          ]
        }
      ]
    },
    {
      "cell_type": "markdown",
      "metadata": {
        "id": "8mcvc-V7pFUQ"
      },
      "source": [
        "###Calculando o produto das matrizes de distância e de idade transposta e salvando na varíavel \"MTb\""
      ]
    },
    {
      "cell_type": "code",
      "metadata": {
        "colab": {
          "base_uri": "https://localhost:8080/"
        },
        "id": "fQAM5-ZCfmoZ",
        "outputId": "26ca5d7d-5b0f-4e01-850b-da815eaf5730"
      },
      "source": [
        "#MDistancia * MIdadeT\n",
        "MTb = np.dot(MDistancia,MIdadeT)\n",
        "print(MTb)"
      ],
      "execution_count": 6,
      "outputs": [
        {
          "output_type": "stream",
          "name": "stdout",
          "text": [
            "[ 2190 85500]\n"
          ]
        }
      ]
    },
    {
      "cell_type": "markdown",
      "metadata": {
        "id": "i_3Z1H6lphpl"
      },
      "source": [
        "### Agora iremos achar o nossos alfa e beta da regressão linear aplicando a função \"linalg.solve\" sobre as matrizes do produto das matrizes de idade e idade transposta e também do produto das matrizes distancia e idade transposta"
      ]
    },
    {
      "cell_type": "code",
      "metadata": {
        "colab": {
          "base_uri": "https://localhost:8080/"
        },
        "id": "LBLQhn_VgliD",
        "outputId": "4593266a-67e8-46f5-f4cb-6868a4b8603e"
      },
      "source": [
        "#Encontrando meu Alfa e Beta \n",
        "X = np.linalg.solve(MTa,MTb)\n",
        "print(X)"
      ],
      "execution_count": 7,
      "outputs": [
        {
          "output_type": "stream",
          "name": "stdout",
          "text": [
            "[630.79391333  -4.63446907]\n"
          ]
        }
      ]
    },
    {
      "cell_type": "markdown",
      "metadata": {
        "id": "-zv2GakLqs5I"
      },
      "source": [
        "## Aplicando a Regressão Linear Calculada"
      ]
    },
    {
      "cell_type": "markdown",
      "metadata": {
        "id": "UFGPNVDeqMNM"
      },
      "source": [
        "###Aplicando o meu alfa e beta eu já consigo achar os meus valores de distância calculado, continuo usando os mesmo valores de idade "
      ]
    },
    {
      "cell_type": "code",
      "metadata": {
        "colab": {
          "base_uri": "https://localhost:8080/"
        },
        "id": "Aih54wVGhzjU",
        "outputId": "6679caa2-2920-4999-99bc-e6d19f2e5308"
      },
      "source": [
        "#Fazendo minha matriz de distância calcuda\n",
        "ME = np.dot(MIdadeT,X)\n",
        "print(ME)"
      ],
      "execution_count": 8,
      "outputs": [
        {
          "output_type": "stream",
          "name": "stdout",
          "text": [
            "[538.10453192 482.49090308 440.78068144 403.70492888 324.91895468]\n"
          ]
        }
      ]
    },
    {
      "cell_type": "markdown",
      "metadata": {
        "id": "d9HhwTtEqUhp"
      },
      "source": [
        "Calculando os erros entre distância prevista e distância calculada"
      ]
    },
    {
      "cell_type": "code",
      "metadata": {
        "colab": {
          "base_uri": "https://localhost:8080/"
        },
        "id": "ssFwopd_izEi",
        "outputId": "db0a12a5-c1ec-4193-d6b6-6f34bdef1967"
      },
      "source": [
        "#Fazendo minha matriz de erros segunda parte  b (valor desejado = distancia)- ME (A*x)\n",
        "ME1 = np.subtract(MDistancia,ME)\n",
        "print(ME1)"
      ],
      "execution_count": 9,
      "outputs": [
        {
          "output_type": "stream",
          "name": "stdout",
          "text": [
            "[ 51.89546808 -72.49090308  19.21931856 -23.70492888  25.08104532]\n"
          ]
        }
      ]
    },
    {
      "cell_type": "markdown",
      "metadata": {
        "id": "u5h4KqBIrN8K"
      },
      "source": [
        "Calculando o módulo das minhas somatórias dos erros"
      ]
    },
    {
      "cell_type": "code",
      "metadata": {
        "colab": {
          "base_uri": "https://localhost:8080/"
        },
        "id": "Iwi0MH2IZ-oS",
        "outputId": "9a96c581-a56e-4160-db5d-66659a7fa39e"
      },
      "source": [
        "##Somatória da Matriz de Erros\n",
        "ME2= np.array([51.89546808 , 72.49090308 , 19.21931856 , 23.70492888  , 25.08104532]) \n",
        "print(np.sum(ME2))"
      ],
      "execution_count": 10,
      "outputs": [
        {
          "output_type": "stream",
          "name": "stdout",
          "text": [
            "192.39166391999998\n"
          ]
        }
      ]
    },
    {
      "cell_type": "markdown",
      "metadata": {
        "id": "skIkPnfLrKnj"
      },
      "source": [
        "### Achando o meu erro quadrático médio "
      ]
    },
    {
      "cell_type": "code",
      "metadata": {
        "colab": {
          "base_uri": "https://localhost:8080/"
        },
        "id": "YoNLaOKCafjS",
        "outputId": "1caa2c7d-e16b-4194-bafd-5b2bd8edccd7"
      },
      "source": [
        "#Módulo da somatória da matriz de erros divido por numero da somatória de dados de entradas\n",
        "erro=np.sum(ME2)/5\n",
        "print(erro)"
      ],
      "execution_count": 11,
      "outputs": [
        {
          "output_type": "stream",
          "name": "stdout",
          "text": [
            "38.478332783999996\n"
          ]
        }
      ]
    },
    {
      "cell_type": "markdown",
      "metadata": {
        "id": "6WFL6QZyrhXK"
      },
      "source": [
        "## Plotando os Gráficos Para Uma Melhor Visualização"
      ]
    },
    {
      "cell_type": "code",
      "metadata": {
        "id": "R0FLpDv4h2e9"
      },
      "source": [
        "MIdadeGrafico = np.array([20,32,41,49,66])"
      ],
      "execution_count": 18,
      "outputs": []
    },
    {
      "cell_type": "code",
      "metadata": {
        "id": "fsHOjze5RYUx",
        "colab": {
          "base_uri": "https://localhost:8080/",
          "height": 295
        },
        "outputId": "d3f33b38-c535-458f-a407-95405a319679"
      },
      "source": [
        "sizes = np.random.uniform(15, 80, len(MIdadeGrafico))\n",
        "colors = np.random.uniform(15, 80, len(MIdadeGrafico))\n",
        "fig, ax = plt.subplots()\n",
        "\n",
        "ax.scatter(MIdadeGrafico, MDistancia, s=sizes, c='RED', vmin=0, vmax=100)\n",
        "plt.plot(MIdadeGrafico,ME,color='BLUE')\n",
        "plt.title(\"Regressão Linear Simple\")\n",
        "plt.xlabel(\"Idade\")\n",
        "plt.ylabel(\"Distância\")\n",
        "\n",
        "plt.show()"
      ],
      "execution_count": 28,
      "outputs": [
        {
          "output_type": "display_data",
          "data": {
            "image/png": "[encoded data removed]",
            "text/plain": [
              "<Figure size 432x288 with 1 Axes>"
            ]
          },
          "metadata": {
            "needs_background": "light"
          }
        }
      ]
    },
    {
      "cell_type": "code",
      "metadata": {
        "colab": {
          "base_uri": "https://localhost:8080/",
          "height": 295
        },
        "id": "OOWggZpoM5BW",
        "outputId": "4af013bd-d726-4a79-e000-0b2edd174563"
      },
      "source": [
        "sizes = np.random.uniform(15, 80, len(MIdadeGrafico))\n",
        "colors = np.random.uniform(15, 80, len(MIdadeGrafico))\n",
        "fig, ax = plt.subplots()\n",
        "\n",
        "ax.scatter(MIdadeGrafico, MDistancia, s=sizes, c='RED', vmin=0, vmax=100)\n",
        "ax.scatter(MIdadeGrafico, ME, s=sizes, c='BLUE', vmin=0, vmax=100)\n",
        "plt.plot(MIdadeGrafico,MDistancia,color='m')\n",
        "plt.plot(MIdadeGrafico,ME,color='BLUE')\n",
        "plt.title(\"Regressão Linear Simple\")\n",
        "plt.xlabel(\"Idade\")\n",
        "plt.ylabel(\"Distância\")\n",
        "\n",
        "plt.show()"
      ],
      "execution_count": 21,
      "outputs": [
        {
          "output_type": "display_data",
          "data": {
            "image/png": "[encoded data removed]",
            "text/plain": [
              "<Figure size 432x288 with 1 Axes>"
            ]
          },
          "metadata": {
            "needs_background": "light"
          }
        }
      ]
    }
  ]
}