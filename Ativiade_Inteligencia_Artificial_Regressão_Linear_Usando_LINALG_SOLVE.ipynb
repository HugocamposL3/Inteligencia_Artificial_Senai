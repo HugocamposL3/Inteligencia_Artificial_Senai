{
  "nbformat": 4,
  "nbformat_minor": 0,
  "metadata": {
    "colab": {
      "name": "Ativiade Inteligencia Artificial Regressão Linear Usando LINALG_SOLVE.ipynb",
      "provenance": [],
      "authorship_tag": "ABX9TyPP86nzn+7oCPKqICRs/mOV",
      "include_colab_link": true
    },
    "kernelspec": {
      "name": "python3",
      "display_name": "Python 3"
    },
    "language_info": {
      "name": "python"
    }
  },
  "cells": [
    {
      "cell_type": "markdown",
      "metadata": {
        "id": "view-in-github",
        "colab_type": "text"
      },
      "source": [
        "<a href=\"https://colab.research.google.com/github/HugocamposL3/Inteligencia_Artificial_Senai/blob/main/Ativiade_Inteligencia_Artificial_Regress%C3%A3o_Linear_Usando_LINALG_SOLVE.ipynb\" target=\"_parent\"><img src=\"https://colab.research.google.com/assets/colab-badge.svg\" alt=\"Open In Colab\"/></a>"
      ]
    },
    {
      "cell_type": "code",
      "metadata": {
        "id": "g6PMlgegVQIu"
      },
      "source": [
        "import numpy as np"
      ],
      "execution_count": 2,
      "outputs": []
    },
    {
      "cell_type": "code",
      "metadata": {
        "colab": {
          "base_uri": "https://localhost:8080/"
        },
        "id": "eCek7yb1bxQN",
        "outputId": "cbb455ed-7dc4-4df1-c9c5-4e5a6161c9b8"
      },
      "source": [
        "MIdade = np.array([[1,1,1,1,1],[20,32,41,49,66]])\n",
        "MDistancia = np.array([590,410,460,380,350])\n",
        "print(MIdade)\n",
        "print(MDistancia)"
      ],
      "execution_count": 8,
      "outputs": [
        {
          "output_type": "stream",
          "name": "stdout",
          "text": [
            "[[ 1  1  1  1  1]\n",
            " [20 32 41 49 66]]\n",
            "[590 410 460 380 350]\n"
          ]
        }
      ]
    },
    {
      "cell_type": "markdown",
      "metadata": {
        "id": "2yA694ODcVTw"
      },
      "source": [
        "y = distancia e x = idade \n",
        "y = alfa + betaX"
      ]
    },
    {
      "cell_type": "code",
      "metadata": {
        "colab": {
          "base_uri": "https://localhost:8080/"
        },
        "id": "RvyJkUChcfj7",
        "outputId": "d7ff1716-55f0-4140-b946-b08f65a6269c"
      },
      "source": [
        "#Fazendo a transposta da Matriz Idade\n",
        "MIdadeT = MIdade.transpose()\n",
        "print(MIdadeT)"
      ],
      "execution_count": 9,
      "outputs": [
        {
          "output_type": "stream",
          "name": "stdout",
          "text": [
            "[[ 1 20]\n",
            " [ 1 32]\n",
            " [ 1 41]\n",
            " [ 1 49]\n",
            " [ 1 66]]\n"
          ]
        }
      ]
    },
    {
      "cell_type": "code",
      "metadata": {
        "colab": {
          "base_uri": "https://localhost:8080/"
        },
        "id": "TA2kSRRadpbs",
        "outputId": "38efe152-56e1-46bf-8724-16f6c0fa3cbb"
      },
      "source": [
        "#MIdade * MIdadeT\n",
        "MTa = np.dot(MIdade,MIdadeT) \n",
        "print(MTa)"
      ],
      "execution_count": 13,
      "outputs": [
        {
          "output_type": "stream",
          "name": "stdout",
          "text": [
            "[[   5  208]\n",
            " [ 208 9862]]\n"
          ]
        }
      ]
    },
    {
      "cell_type": "code",
      "metadata": {
        "colab": {
          "base_uri": "https://localhost:8080/"
        },
        "id": "fQAM5-ZCfmoZ",
        "outputId": "27295503-02f4-475e-cc44-7daef0ee9487"
      },
      "source": [
        "#MDistancia * MIdadeT\n",
        "MTb = np.dot(MDistancia,MIdadeT)\n",
        "print(MTb)"
      ],
      "execution_count": 14,
      "outputs": [
        {
          "output_type": "stream",
          "name": "stdout",
          "text": [
            "[ 2190 85500]\n"
          ]
        }
      ]
    },
    {
      "cell_type": "code",
      "metadata": {
        "colab": {
          "base_uri": "https://localhost:8080/"
        },
        "id": "LBLQhn_VgliD",
        "outputId": "38ae5813-8261-46f8-fb34-e4efbb624802"
      },
      "source": [
        "#Encontrando meu Alfa e Beta \n",
        "X = np.linalg.solve(MTa,MTb)\n",
        "print(X)"
      ],
      "execution_count": 16,
      "outputs": [
        {
          "output_type": "stream",
          "name": "stdout",
          "text": [
            "[630.79391333  -4.63446907]\n"
          ]
        }
      ]
    },
    {
      "cell_type": "code",
      "metadata": {
        "colab": {
          "base_uri": "https://localhost:8080/"
        },
        "id": "Aih54wVGhzjU",
        "outputId": "3f7fac5a-8dea-4935-9dfd-043586689ab1"
      },
      "source": [
        "#Fazendo minha matriz de erros \n",
        "ME = np.dot(MIdadeT,X)\n",
        "print(ME)"
      ],
      "execution_count": 25,
      "outputs": [
        {
          "output_type": "stream",
          "name": "stdout",
          "text": [
            "[538.10453192 482.49090308 440.78068144 403.70492888 324.91895468]\n"
          ]
        }
      ]
    },
    {
      "cell_type": "code",
      "metadata": {
        "colab": {
          "base_uri": "https://localhost:8080/"
        },
        "id": "ssFwopd_izEi",
        "outputId": "16c0d607-6093-4650-a401-e2c55eca38b6"
      },
      "source": [
        "## erro = b - Ax\n",
        "ME1 = np.subtract(MDistancia,ME)\n",
        "print(ME1)"
      ],
      "execution_count": 30,
      "outputs": [
        {
          "output_type": "stream",
          "name": "stdout",
          "text": [
            "[ 51.89546808 -72.49090308  19.21931856 -23.70492888  25.08104532]\n"
          ]
        }
      ]
    }
  ]
}